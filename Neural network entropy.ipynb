{
 "cells": [
  {
   "cell_type": "markdown",
   "metadata": {},
   "source": [
    "Reducing neural network information content\n",
    "--\n",
    "\n",
    "This demo shows how to reduce neural network information content during the neural network training session. The method defines a regularization that pushes the networks weights to a few selected values.\n",
    "\n",
    "We begin by importing the tensorflow neural network library and a dataset for testing"
   ]
  },
  {
   "cell_type": "code",
   "execution_count": 1,
   "metadata": {},
   "outputs": [
    {
     "name": "stdout",
     "output_type": "stream",
     "text": [
      "Extracting MNIST_data/train-images-idx3-ubyte.gz\n",
      "Extracting MNIST_data/train-labels-idx1-ubyte.gz\n",
      "Extracting MNIST_data/t10k-images-idx3-ubyte.gz\n",
      "Extracting MNIST_data/t10k-labels-idx1-ubyte.gz\n"
     ]
    }
   ],
   "source": [
    "from tensorflow.examples.tutorials.mnist import input_data\n",
    "import tensorflow as tf\n",
    "from itertools import chain\n",
    "from math import sqrt, pi, log\n",
    "\n",
    "mnist = input_data.read_data_sets('MNIST_data', one_hot=True)"
   ]
  },
  {
   "cell_type": "markdown",
   "metadata": {},
   "source": [
    "We start by defining a few helper-functions for network creation."
   ]
  },
  {
   "cell_type": "code",
   "execution_count": 16,
   "metadata": {},
   "outputs": [],
   "source": [
    "def weight_variable(shape, name=None):\n",
    "    name = name.replace(\" \", \"_\")\n",
    "    initial = tf.truncated_normal(shape, stddev=0.1)\n",
    "    return tf.Variable(initial, name=name)\n",
    "\n",
    "def bias_variable(shape, name=None):\n",
    "    name = name.replace(\" \", \"_\")\n",
    "    initial = tf.constant(0.1, shape=shape)\n",
    "    return tf.Variable(initial, name=name)\n",
    "\n",
    "def conv2d(x, W):\n",
    "    return tf.nn.conv2d(x, W, strides=[1,1,1,1], padding='SAME')\n",
    "\n",
    "def max_pool_2x2(x):\n",
    "    return tf.nn.max_pool(x, ksize=[1,2,2,1], strides=[1,2,2,1], padding='SAME')"
   ]
  },
  {
   "cell_type": "markdown",
   "metadata": {},
   "source": [
    "We initialize a fairly basic convolution network that is commonly seen used on the mnist dataset."
   ]
  },
  {
   "cell_type": "code",
   "execution_count": 3,
   "metadata": {},
   "outputs": [],
   "source": [
    "x = tf.placeholder(tf.float32, shape=[None,784], name=\"input_image\")\n",
    "y_ = tf.placeholder(tf.float32, shape=[None,10], name=\"reference_value\")\n",
    "x_image = tf.reshape(x, [-1, 28, 28, 1])\n",
    "keep_prob = tf.placeholder(tf.float32, name=\"keep_probability\")\n",
    "nncost = tf.placeholder(tf.float32, name=\"synaps_cost\")\n",
    "nncoststeepness = tf.placeholder(tf.float32, name=\"synaps_cost\")\n",
    "\n",
    "W_conv1 = weight_variable([5,5,1,32], \"conv 1 weight\")\n",
    "W_conv2 = weight_variable([5,5,32,64], \"conv 2 weight\")\n",
    "b_conv1 = bias_variable([32], \"conv 1 bias\")\n",
    "b_conv2 = bias_variable([64], \"conv 2 bias\")\n",
    "h_conv1 = tf.nn.relu(conv2d(x_image, W_conv1) + b_conv1)\n",
    "h_pool1 = max_pool_2x2(h_conv1)\n",
    "h_conv2 = tf.nn.relu(conv2d(h_pool1, W_conv2) + b_conv2)\n",
    "h_pool2 = max_pool_2x2(h_conv2)\n",
    "\n",
    "W_fc1 = weight_variable([7*7*64, 1024], \"layer 1 weights\")\n",
    "W_fc2 = weight_variable([1024, 10], \"layer 2 weights\")\n",
    "b_fc1 = bias_variable([1024], \"layer 1 biases\")\n",
    "b_fc2 = bias_variable([10], \"layer 2 biases\")"
   ]
  },
  {
   "cell_type": "code",
   "execution_count": 4,
   "metadata": {},
   "outputs": [],
   "source": [
    "h_pool_flat = tf.reshape(h_pool2, [-1, 7*7*64])\n",
    "with tf.name_scope(\"First_layer\") as scope:\n",
    "    h_fc1 = tf.nn.relu(tf.matmul(h_pool_flat, W_fc1) + b_fc1)\n",
    "    h_fc1_drop = tf.nn.dropout(h_fc1, keep_prob)\n",
    "\n",
    "with tf.name_scope(\"Second_layer\") as scope:\n",
    "    y_conv = tf.nn.softmax(tf.matmul(h_fc1_drop, W_fc2) + b_fc2)\n",
    "\n",
    "h_fc1_hist = tf.summary.histogram(\"First_layer_weight\", W_fc1)\n",
    "h_fc2_hist = tf.summary.histogram(\"Second_layer_weight\", W_fc2)\n",
    "\n",
    "with tf.name_scope(\"test\") as scope:\n",
    "    correct_prediction = tf.equal(tf.argmax(y_conv, 1), tf.argmax(y_, 1))\n",
    "    accuracy = tf.reduce_mean(tf.cast(correct_prediction, tf.float32))\n",
    "    accuracy_summary = tf.summary.scalar(\"accuracy\", accuracy)"
   ]
  },
  {
   "cell_type": "markdown",
   "metadata": {},
   "source": [
    "To give a estimate on the network entropy, we compare how close the network is to a nice mixture of three gaussians. The idea here is that a network would have common positive, neutral and negative weights in addition to some rare weights in between."
   ]
  },
  {
   "cell_type": "code",
   "execution_count": 17,
   "metadata": {},
   "outputs": [],
   "source": [
    "sigma1 = .01\n",
    "sigma2 = .02\n",
    "sigma12 = sigma1*sigma1\n",
    "sigma22 = sigma2*sigma2\n",
    "mu2 = 2e-1\n",
    "dx = 1e-8\n",
    "pisqrt = sqrt(pi)\n",
    "def NN_entropy(W):\n",
    "    px = dx/(sigma1*pisqrt) * (tf.exp(-tf.pow(tf.reshape(W, [-1]), 2)/(2*sigma12))) +\\\n",
    "          dx/(sigma2*pisqrt) * (tf.exp(-tf.pow(tf.reshape(W, [-1]) - mu2, 2)/(2*sigma22))) +\\\n",
    "          dx/(sigma2*pisqrt) * (tf.exp(-tf.pow(tf.reshape(W, [-1]) + mu2, 2)/(2*sigma22)))\n",
    "    return tf.reduce_sum(px*tf.log(px))"
   ]
  },
  {
   "cell_type": "markdown",
   "metadata": {},
   "source": [
    "Next we define our training objective. We are trying to minimize the cross-entropy between known data and predicted values, and the entropy of the model."
   ]
  },
  {
   "cell_type": "code",
   "execution_count": 6,
   "metadata": {},
   "outputs": [],
   "source": [
    "with tf.name_scope(\"xent\") as scope:\n",
    "    nn_entropy = tf.minimum(NN_entropy(W_fc1) + NN_entropy(W_fc2), 10)\n",
    "    cross_entropy = tf.reduce_mean(-tf.reduce_sum(y_ * tf.log(y_conv), reduction_indices=[1]))\n",
    "    tf.summary.scalar(\"cross_entropy\", cross_entropy, collections=\"xent\")\n",
    "    tf.summary.scalar(\"nn_entropy\", nn_entropy, collections=\"nnent\")\n",
    "    entropy = cross_entropy + nn_entropy*nncost\n",
    "    tf.summary.scalar(\"entropy\", entropy, collections=\"ent\")\n",
    "\n",
    "with tf.name_scope(\"train\"):\n",
    "    train_step = tf.train.AdamOptimizer(1e-4).minimize(entropy)"
   ]
  },
  {
   "cell_type": "markdown",
   "metadata": {},
   "source": [
    "After all is defined, we initialize our values."
   ]
  },
  {
   "cell_type": "code",
   "execution_count": 7,
   "metadata": {},
   "outputs": [],
   "source": [
    "merged = tf.summary.merge_all()\n",
    "run_name = \"second\"\n",
    "sess = tf.Session()\n",
    "writer = tf.summary.FileWriter(\"/tmp/mnist_logs/%s\" % run_name, sess.graph)\n",
    "\n",
    "\n",
    "sess.run(tf.global_variables_initializer())\n"
   ]
  },
  {
   "cell_type": "markdown",
   "metadata": {},
   "source": [
    "Here we define a short training cycle that will look at some of the data and run the training"
   ]
  },
  {
   "cell_type": "code",
   "execution_count": 8,
   "metadata": {},
   "outputs": [],
   "source": [
    "def trainN(N=20000, nn_cost_l=0.5):\n",
    "    i = 0\n",
    "    while i < N:\n",
    "        batch = mnist.train.next_batch(50)\n",
    "        feed = {x: batch[0], y_: batch[1],\n",
    "                keep_prob: 0.5, nncost: nn_cost_l}\n",
    "        if i%100 == 0:\n",
    "            result = sess.run(accuracy, feed_dict=feed)\n",
    "            print(\"acc(%s): %s\" % (i, result))\n",
    "        sess.run(train_step, feed_dict=feed)\n",
    "        i = i + 1\n"
   ]
  },
  {
   "cell_type": "markdown",
   "metadata": {},
   "source": [
    "We start by training with a few thousand samples"
   ]
  },
  {
   "cell_type": "code",
   "execution_count": 9,
   "metadata": {},
   "outputs": [
    {
     "name": "stdout",
     "output_type": "stream",
     "text": [
      "acc(0): 0.04\n",
      "acc(100): 0.68\n",
      "acc(200): 0.88\n",
      "acc(300): 0.84\n",
      "acc(400): 0.84\n",
      "acc(500): 0.92\n",
      "acc(600): 0.96\n",
      "acc(700): 0.94\n",
      "acc(800): 0.96\n",
      "acc(900): 0.88\n",
      "acc(1000): 0.86\n",
      "acc(1100): 0.94\n",
      "acc(1200): 0.92\n",
      "acc(1300): 0.98\n",
      "acc(1400): 0.98\n",
      "acc(1500): 0.92\n",
      "acc(1600): 0.92\n",
      "acc(1700): 0.96\n",
      "acc(1800): 0.98\n",
      "acc(1900): 0.98\n"
     ]
    }
   ],
   "source": [
    "trainN(2000, 0.5)"
   ]
  },
  {
   "cell_type": "markdown",
   "metadata": {},
   "source": [
    "To get an estimate on how much entropy we have in our model, we use the Shannon definition of entropy. The following function calculates how much data can be compressed."
   ]
  },
  {
   "cell_type": "code",
   "execution_count": 20,
   "metadata": {},
   "outputs": [],
   "source": [
    "import bz2\n",
    "shannonentropyratio = lambda data: len(bz2.compress(data))/len(data)"
   ]
  },
  {
   "cell_type": "markdown",
   "metadata": {},
   "source": [
    "Even after learning a lot, our model still has almost 100% entropy compared to random data. This happens because our numbers are accurate to N desimals, so even if most values would be very close to 0, we still have to encode the exact values."
   ]
  },
  {
   "cell_type": "code",
   "execution_count": 11,
   "metadata": {},
   "outputs": [
    {
     "name": "stdout",
     "output_type": "stream",
     "text": [
      "Entropy in W_fc1: 0.957\n"
     ]
    }
   ],
   "source": [
    "print(\"Entropy in W_fc1: %.3f\" % shannonentropyratio(sess.run(W_fc1).data.tobytes()))"
   ]
  },
  {
   "cell_type": "code",
   "execution_count": 12,
   "metadata": {},
   "outputs": [
    {
     "name": "stdout",
     "output_type": "stream",
     "text": [
      "Entropy in W_fc2: 0.979\n"
     ]
    }
   ],
   "source": [
    "print(\"Entropy in W_fc2: %.3f\" % shannonentropyratio(sess.run(W_fc2).data.tobytes()))"
   ]
  },
  {
   "cell_type": "markdown",
   "metadata": {},
   "source": [
    "To get a better estimate, we define a function that will round values to pure 0 (or any a defined mean-value) when they are closer than eps."
   ]
  },
  {
   "cell_type": "code",
   "execution_count": 13,
   "metadata": {},
   "outputs": [],
   "source": [
    "def zero_tiny(W, mean=0, eps=0.001):\n",
    "    sess.run(tf.assign(W,  W - tf.multiply(tf.reshape((tf.sign(tf.abs(tf.reshape(W, [-1]) - mean) - eps) - 1)/-2, W.shape), W - mean)))\n"
   ]
  },
  {
   "cell_type": "markdown",
   "metadata": {},
   "source": [
    "After zeroing values, we still get about the same accuracy, but our shannon-entropy starts to get smaller."
   ]
  },
  {
   "cell_type": "code",
   "execution_count": 21,
   "metadata": {},
   "outputs": [
    {
     "name": "stdout",
     "output_type": "stream",
     "text": [
      "acc(0): 1.0\n",
      "acc(100): 1.0\n",
      "acc(200): 1.0\n",
      "acc(300): 1.0\n",
      "acc(400): 1.0\n",
      "acc(500): 0.96\n",
      "acc(600): 0.98\n",
      "acc(700): 0.98\n",
      "acc(800): 1.0\n",
      "acc(900): 0.96\n",
      "0.9887\n",
      "Entropy in W_fc1: 0.521\n",
      "Entropy in W_fc2: 0.810\n",
      "acc(0): 0.98\n",
      "acc(100): 1.0\n",
      "acc(200): 1.0\n",
      "acc(300): 1.0\n",
      "acc(400): 0.96\n",
      "acc(500): 0.98\n",
      "acc(600): 0.98\n",
      "acc(700): 1.0\n",
      "acc(800): 1.0\n",
      "acc(900): 0.98\n",
      "0.9897\n",
      "Entropy in W_fc1: 0.491\n",
      "Entropy in W_fc2: 0.763\n",
      "acc(0): 1.0\n",
      "acc(100): 1.0\n",
      "acc(200): 1.0\n",
      "acc(300): 0.96\n",
      "acc(400): 0.98\n",
      "acc(500): 0.98\n",
      "acc(600): 1.0\n",
      "acc(700): 1.0\n",
      "acc(800): 1.0\n",
      "acc(900): 1.0\n",
      "0.9905\n",
      "Entropy in W_fc1: 0.466\n",
      "Entropy in W_fc2: 0.718\n",
      "acc(0): 0.98\n",
      "acc(100): 0.98\n",
      "acc(200): 1.0\n",
      "acc(300): 1.0\n",
      "acc(400): 1.0\n",
      "acc(500): 1.0\n",
      "acc(600): 1.0\n",
      "acc(700): 0.98\n",
      "acc(800): 0.98\n",
      "acc(900): 0.96\n",
      "0.9911\n",
      "Entropy in W_fc1: 0.451\n",
      "Entropy in W_fc2: 0.686\n"
     ]
    }
   ],
   "source": [
    "for i in range(4):\n",
    "  trainN(1000, 1 + i)\n",
    "  zero_tiny(W_fc1)\n",
    "  zero_tiny(W_fc2)\n",
    "  zero_tiny(W_fc1, mean=mu2)\n",
    "  zero_tiny(W_fc2, mean=mu2)\n",
    "  zero_tiny(W_fc1, mean=-mu2)\n",
    "  zero_tiny(W_fc2, mean=-mu2)\n",
    "  print(sess.run(accuracy, {x: mnist.test.images, y_: mnist.test.labels, keep_prob: 1.0}))\n",
    "  print(\"Entropy in W_fc1: %.3f\" % shannonentropyratio(sess.run(W_fc1).data.tobytes()))\n",
    "  print(\"Entropy in W_fc2: %.3f\" % shannonentropyratio(sess.run(W_fc2).data.tobytes()))\n"
   ]
  },
  {
   "cell_type": "markdown",
   "metadata": {},
   "source": [
    "We can also visualize how our network weights turn out by plotting a binned histogram of the values."
   ]
  },
  {
   "cell_type": "code",
   "execution_count": 22,
   "metadata": {},
   "outputs": [
    {
     "data": {
      "image/png": "[encoded data removed]",
      "text/plain": [
       "<matplotlib.figure.Figure at 0x7f8291241940>"
      ]
     },
     "metadata": {},
     "output_type": "display_data"
    }
   ],
   "source": [
    "import numpy as np\n",
    "from matplotlib import pyplot as plt\n",
    "\n",
    "\n",
    "def NN_entropy_curve(W):\n",
    "    px = dx/(sigma1*pisqrt) * (np.exp(-np.power(W, 2)/(2*sigma12))) +\\\n",
    "          dx/(sigma2*pisqrt) * (np.exp(-np.power(W - mu2, 2)/(2*sigma22))) +\\\n",
    "          dx/(sigma2*pisqrt) * (np.exp(-np.power(W + mu2, 2)/(2*sigma22)))\n",
    "    return px\n",
    "#    return -np.sum(px*np.log(px))\n",
    "\n",
    "def plotW():\n",
    "    x_ = np.arange(-0.3, 0.3, 0.01)\n",
    "    f, axarr = plt.subplots(2, sharex=True)\n",
    "    h1 = axarr[0].hist(sess.run(tf.reshape(W_fc2, [-1])), np.arange(-0.3,0.3,0.01))\n",
    "    axarr[0].plot(x_, max(h1[0])*NN_entropy_curve(x_)/max(NN_entropy_curve(x_)))\n",
    "    h2 = axarr[1].hist(sess.run(tf.reshape(W_fc1, [-1])), np.arange(-0.3,0.3,0.01))\n",
    "    axarr[1].plot(x_, max(h2[0])*NN_entropy_curve(x_)/max(NN_entropy_curve(x_)))\n",
    "    plt.show()\n",
    "\n",
    "plotW()\n"
   ]
  },
  {
   "cell_type": "code",
   "execution_count": null,
   "metadata": {},
   "outputs": [],
   "source": []
  }
 ],
 "metadata": {
  "kernelspec": {
   "display_name": "Python 3",
   "language": "python",
   "name": "python3"
  },
  "language_info": {
   "codemirror_mode": {
    "name": "ipython",
    "version": 3
   },
   "file_extension": ".py",
   "mimetype": "text/x-python",
   "name": "python",
   "nbconvert_exporter": "python",
   "pygments_lexer": "ipython3",
   "version": "3.5.2"
  }
 },
 "nbformat": 4,
 "nbformat_minor": 2
}
